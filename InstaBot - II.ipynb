{
 "cells": [
  {
   "cell_type": "code",
   "execution_count": 1,
   "metadata": {},
   "outputs": [],
   "source": [
    "from bs4 import BeautifulSoup\n",
    "import pandas as pd\n",
    "from selenium import webdriver\n",
    "driver = webdriver.Chrome(\"C:/Users/Anirudh/Downloads/chromedriver/chromedriver.exe\")\n",
    "from selenium.webdriver.support.ui import WebDriverWait\n",
    "from selenium.webdriver.common.by import By\n",
    "from selenium.webdriver.support import expected_conditions as EC\n",
    "import time\n",
    "from selenium.webdriver.support.select import Select\n",
    "from selenium.webdriver.common.keys import Keys"
   ]
  },
  {
   "cell_type": "code",
   "execution_count": 2,
   "metadata": {},
   "outputs": [],
   "source": [
    "def login():\n",
    "    \n",
    "    driver.get(\"https://www.instagram.com\")\n",
    "    time.sleep(3)\n",
    "    \n",
    "    userName = driver.find_element_by_name('username')\n",
    "    userName.send_keys(\"SAMPLE USERNAME\")\n",
    "    \n",
    "    password = driver.find_element_by_name('password')\n",
    "    password.send_keys('SAMPLE PASSWORD')\n",
    "    \n",
    "    btn = driver.find_element_by_class_name('sqdOP')\n",
    "    btn.submit()\n",
    "    \n",
    "login()"
   ]
  },
  {
   "cell_type": "markdown",
   "metadata": {},
   "source": [
    "# Question 1"
   ]
  },
  {
   "cell_type": "markdown",
   "metadata": {},
   "source": [
    "Part 1"
   ]
  },
  {
   "cell_type": "code",
   "execution_count": 32,
   "metadata": {},
   "outputs": [
    {
     "name": "stdout",
     "output_type": "stream",
     "text": [
      "The top 5 handles with the maximum followers are: \n",
      "yourfoodlab : 1456582\n",
      "dilsefoodie : 654920\n",
      "foodtalkindia : 302770\n",
      "delhifoodwalks : 126895\n",
      "delhifoodguide : 104460\n"
     ]
    }
   ],
   "source": [
    "def getTop5():\n",
    "\n",
    "    driver.get(\"https://www.instagram.com\")\n",
    "\n",
    "    #make a dictionary which will store the igHandle as key and their number of values followers as value\n",
    "    d = {}\n",
    "    for i in range(10):\n",
    "\n",
    "        search = driver.find_element_by_class_name('XTCLo')\n",
    "        search.send_keys('food')\n",
    "        time.sleep(3)\n",
    "\n",
    "\n",
    "        accounts = driver.find_elements_by_css_selector(\".fuqBx a.yCE8d\")\n",
    "        account = accounts[i]\n",
    "        account.click()\n",
    "        time.sleep(3)\n",
    "\n",
    "        name = driver.find_element_by_tag_name(\"h2\").text\n",
    "        followers = driver.find_element_by_css_selector(\"a._81NM2 span.g47SY\").get_attribute('title')\n",
    "        followers = followers.replace(\",\", \"\")\n",
    "        followers = int(followers)\n",
    "\n",
    "        d[name] = followers\n",
    "\n",
    "        driver.back()\n",
    "        time.sleep(2)\n",
    "\n",
    "    arr = list(d.items())\n",
    "    \n",
    "    #sort the array on the basis of number of followers in descending manner\n",
    "    arr.sort(key = lambda x : x[-1], reverse = True)\n",
    "    \n",
    "    return arr\n",
    "\n",
    "arr = getTop5()\n",
    "print(\"The top 5 handles with the maximum followers are: \")\n",
    "\n",
    "for i in range(5):\n",
    "    print(arr[i][0], ':', arr[i][1])"
   ]
  },
  {
   "cell_type": "markdown",
   "metadata": {},
   "source": [
    "Part 2"
   ]
  },
  {
   "cell_type": "code",
   "execution_count": 45,
   "metadata": {},
   "outputs": [
    {
     "name": "stdout",
     "output_type": "stream",
     "text": [
      "yourfoodlab 5\n",
      "dilsefoodie 2\n",
      "foodtalkindia 4\n",
      "delhifoodwalks 4\n",
      "delhifoodguide 0\n"
     ]
    }
   ],
   "source": [
    "from datetime import date \n",
    "\n",
    "def getNumberInLast3Days(accountName):\n",
    "    \n",
    "    driver.get(\"https://www.instagram.com\")\n",
    "    search = driver.find_element_by_class_name('XTCLo')\n",
    "    search.send_keys(accountName)\n",
    "    time.sleep(3)\n",
    "    \n",
    "    account = driver.find_element_by_xpath('//div[@class=\"fuqBx\"]/a[1]')\n",
    "    account.click()\n",
    "    time.sleep(3)\n",
    "    \n",
    "    driver.execute_script('window.scrollTo(0, document.body.scrollHeight);')\n",
    "    time.sleep(2)\n",
    "    \n",
    "    posts = driver.find_elements_by_class_name(\"_9AhH0\")\n",
    "    \n",
    "    #get the current date\n",
    "    currDate = date.today()\n",
    "    i = 0\n",
    "    \n",
    "    while True:\n",
    "        \n",
    "        currPost = posts[i]\n",
    "        currPost.click()\n",
    "        time.sleep(2)\n",
    "        \n",
    "        postTime = driver.find_element_by_tag_name(\"time\").get_attribute(\"title\").split(\",\")\n",
    "        \n",
    "        #check if year is equal\n",
    "        if int(postTime[-1].strip()) == currDate.year:\n",
    "            \n",
    "            month, date = postTime[0].split(\" \")\n",
    "            \n",
    "            #check if month is equal\n",
    "            if month == currDate.strftime('%B')[:3] and int(date) >= currDate.day - 3:\n",
    "                i += 1\n",
    "                close = driver.find_element_by_xpath(\"//body/div[last()]/div[last()]/button\")\n",
    "                close.click()\n",
    "                time.sleep(2)\n",
    "            else:\n",
    "                return i\n",
    "        else:\n",
    "            return i\n",
    "        \n",
    "        \n",
    "#get the top 5 array from the Part 1 function\n",
    "arr = getTop5()\n",
    "\n",
    "#make a dictionary which will store igHandle as key and the number of required posts as value\n",
    "d = {}\n",
    "for i in range(5):\n",
    "    \n",
    "    accountName = arr[i][0]\n",
    "    numberOfPosts = getNumberInLast3Days(accountName)\n",
    "    d[accountName] = numberOfPosts\n",
    "    \n",
    "    print(accountName, numberOfPosts)\n",
    "    \n",
    "    \n",
    "        \n",
    "    \n"
   ]
  },
  {
   "cell_type": "markdown",
   "metadata": {},
   "source": [
    "Part 3"
   ]
  },
  {
   "cell_type": "code",
   "execution_count": 49,
   "metadata": {},
   "outputs": [
    {
     "data": {
      "image/png": "[encoded data removed]",
      "text/plain": [
       "<Figure size 432x288 with 1 Axes>"
      ]
     },
     "metadata": {
      "needs_background": "light"
     },
     "output_type": "display_data"
    }
   ],
   "source": [
    "import matplotlib.pyplot as plt\n",
    "\n",
    "#get the top 5 array from the Part 1 function\n",
    "arr = getTop5()\n",
    "\n",
    "#make a dictionary which will store igHandle as key and the number of required posts as value like in above part 2\n",
    "d = {}\n",
    "\n",
    "for i in range(5):\n",
    "    accountName = arr[i][0]\n",
    "    numberOfPosts = getNumberInLast3Days(accountName)\n",
    "    d[accountName] = numberOfPosts\n",
    "    \n",
    "handles = list(d.keys())\n",
    "numberOfposts = list(d.values())\n",
    "\n",
    "#plot the bar-graph\n",
    "plt.bar(handles, numberOfposts)\n",
    "plt.xlabel(\"Instagram Handles\")\n",
    "plt.ylabel(\"Number of Posts\")\n",
    "plt.title(\"Number of posts in last 3 days by different popular food handles\")\n",
    "plt.xticks(rotation = 30)\n",
    "plt.grid()\n",
    "plt.show()\n"
   ]
  },
  {
   "cell_type": "markdown",
   "metadata": {},
   "source": [
    "# Question 2"
   ]
  },
  {
   "cell_type": "markdown",
   "metadata": {},
   "source": [
    "Part 1"
   ]
  },
  {
   "cell_type": "code",
   "execution_count": 51,
   "metadata": {},
   "outputs": [
    {
     "name": "stdout",
     "output_type": "stream",
     "text": [
      "['#Recipe', '#foodie', '#cake', '#streetfood', '#streetstyle', '#cakesofinstagram', '#cake', '#baking', '#bakingtime', '#streetfood', '#sanjyotkeer', '#cakestagram', '#cakelover', '#TwistedRecipe', '#recipe', '#foodiesofinstagram', '#aloo', '#foodporn', '#streetfood', '#indianfood', '#indiancuisine', '#MorphyRichards', '#CookItMyWay', '#CookItMyWay', '#recipes', '#idli', '#idlilove', '#southindianfood', '#southindian', '#foodporn', '#foodies', '#streetfood', '#streetstyle', '#indiancuisine', '#recipe', '#recipeoftheday', '#idli', '#masala', '#southindianfood', '#foodporn', '#streetfood', '#mumbaistreetfood', '#fooddaily', '#yourfoodtographer', '#streetstyle', '#sanjyotkeer', '#instadaily', '#recipe', '#foodie', '#comfortfood', '#streetfood', '#indiancuisine', '#food', '#foodporn', '#bhindimasala', '#streetstyle', '#sanjyotkeer', '#MorphyRichards', '#CookItMyWay', '#CookItMyWay', '#recipe', '#foodie', '#comfortfood', '#streetfood', '#indiancuisine', '#sanjyotkeer', '#foodporn', '#recipe', '#palak', '#paneer', '#rajma', '#foodie', '#foodporn', '#comfortfood', '#streetfood', '#indiancuisine', '#sanjyotkeer', '#foodphotography', '#dilsefoodie', '#dilsefoodie', '#dilsefoodie', '#dilsefoodie', '#dilsefoodie', '#southdelhi', '#gk1', '#dilsefoodie', '#dilsefoodie', '#food', '#delhitovrindavan', '#Onedaytrip', '#dilsefoodie', '#dilsefoodie', '#dilsefoodie', '#GiveawayAlert', '#HendricksMidsummer', '#HendricksMidsummer', '#HendricksGin', '', '', '', '#HendricksMidsummer', '#HendricksGin', '#IgotGinspired', '#daulatkichaat', '#puranidilli', '#foodstyling', '#foodblogger', '#foodexplorer', '#mithai', '#puranidilli', '#yummy', '#tasty', '#delish', '#yumm', '#nomnom', '#sogood', '#malai', '#makhanmalai', '#sodelhi', '#lbb', '#foodtalkindia', '#foodguide', '#delhifoodwalks', '#streetfoodstories', '#streetsofdelhi', '#walkwithdfw', '#walkwithanubhav', '#indianculinarytours', '#indianculinaryculture', '#newvideoalert', '#DFWInHaryana', '#villagefood', '#rusticflavours', '#dfwtravels', '#woodfiredoven', '#traditionalfoods', '#makkikiroti', '#bajrekiroti', '#sarsonkasaag', '#rabdi', '#makhan', '#burfi', '#clusterbeans', '#pure', '#walkwithdfw', '#walkwithanubhav', '', '', '', '', '', '', '', '', '', '', '', '', '', '', '', '', '', '', '#momo', '#chickenmomos', '#chickenmomo', '#chickendumplings', '#nagalandcuisine', '#delhitourism', '#delhigram', '#delhihaat', '#tasty', '#sodelhi', '#yummymomos', '#steammomos', '#chickensoup', '#delish', '#delight', '#winters', '#delhi', '#delhincr', '#newdelhi', '#lbb', '#foodtalkindia', '#walkwithdfw', '#IndiaCulinaryTours', '#IndianCulinaryCulture', '#throwback', '#madurai', '#maduraistreetfood', '#idiyappams', '#delhifoodwalks', '#indianstreetfood', '#streetfoodwithdelhifoodwalks', '#chennaifoodtour', '#bhelpuri', '#delhistreetfoods', '#walkwithdelhifoodwalks', '#streetfoodofindia', '#snacks', '#bhelpurilover', '#garamdoodh', '#milk', '#hotmilk', '#winterdrink', '#winterbeverage', '#traditionalbeverage', '#walkwithdfw', '#walkwithanubhav', '#indianculinaryculture', '#indianculinarytours', '#puranidilli', '#olddelhi', '#streetfoodstories', '#streetsofdelhi', '#dilli6', '#delhistreets', '#puranidilliwaley', '#olddelhifood', '#mithai', '#mithaibox', '#mitha', '#diwali', '#winters', '#festivevibes', '#festiveseason', '#yumm', '#yummy', '#tasty', '#nomnom', '#delish', '#sweets', '#indiansweets', '#authenticindianfood', '#indiandesserts', '#sodelhi', '#foodtalkindia', '#lbb', '#hogging', '#food', '#drooling', '#drool', '#foodlove', '#foodlover', '#foodporn', '#foodgasm', '#delhi', '#delhifood', '#justdelhiing', '#delhifoodwalks', '#photography', '#delhites', '#delhilove', '#foodphotography', '#foodislife', '#fatehkikachori', '#SoDelhi']\n"
     ]
    }
   ],
   "source": [
    "def getHashtags(accountName, hashtags):\n",
    "    \n",
    "    driver.get(\"https://www.instagram.com\")\n",
    "    search = driver.find_element_by_class_name('XTCLo')\n",
    "    \n",
    "    #search for the account\n",
    "    search.send_keys(accountName)\n",
    "    time.sleep(3)\n",
    "    \n",
    "    #click on the account\n",
    "    account = driver.find_element_by_xpath('//div[@class=\"fuqBx\"]/a[1]')\n",
    "    account.click()\n",
    "    time.sleep(3)\n",
    "    \n",
    "    posts = driver.find_elements_by_class_name(\"_9AhH0\")\n",
    "    \n",
    "    #iterate over the top 10 posts\n",
    "    for i in range(10):\n",
    "        \n",
    "        currPost = posts[i]\n",
    "        currPost.click()\n",
    "        time.sleep(3)\n",
    "        \n",
    "        li = driver.find_elements_by_css_selector(\"div.C4VMK span a.xil3i\")\n",
    "        \n",
    "        #add all the hashtag in the hashtags list\n",
    "        for hashtag in li:\n",
    "            hashtags.append(hashtag.text)\n",
    "            \n",
    "        close = driver.find_element_by_xpath(\"//body/div[last()]/div[last()]/button\")\n",
    "        close.click()\n",
    "        time.sleep(2)\n",
    "        \n",
    "\n",
    "#get the top5 handles\n",
    "arr = getTop5()\n",
    "\n",
    "#make an array which will store all the hashtags\n",
    "hashtags = []\n",
    "\n",
    "for i in range(5):\n",
    "    \n",
    "    accountName = arr[i][0]\n",
    "    \n",
    "    getHashtags(accountName, hashtags)\n",
    "    \n",
    "print(hashtags)\n",
    "    "
   ]
  },
  {
   "cell_type": "markdown",
   "metadata": {},
   "source": [
    "Part 2"
   ]
  },
  {
   "cell_type": "code",
   "execution_count": 52,
   "metadata": {},
   "outputs": [
    {
     "name": "stdout",
     "output_type": "stream",
     "text": [
      "#Recipe : 1\n",
      "#foodie : 4\n",
      "#cake : 2\n",
      "#streetfood : 8\n",
      "#streetstyle : 4\n",
      "#cakesofinstagram : 1\n",
      "#baking : 1\n",
      "#bakingtime : 1\n",
      "#sanjyotkeer : 5\n",
      "#cakestagram : 1\n",
      "#cakelover : 1\n",
      "#TwistedRecipe : 1\n",
      "#recipe : 5\n",
      "#foodiesofinstagram : 1\n",
      "#aloo : 1\n",
      "#foodporn : 7\n",
      "#indianfood : 1\n",
      "#indiancuisine : 5\n",
      "#MorphyRichards : 2\n",
      "#CookItMyWay : 4\n",
      "#recipes : 1\n",
      "#idli : 2\n",
      "#idlilove : 1\n",
      "#southindianfood : 2\n",
      "#southindian : 1\n",
      "#foodies : 1\n",
      "#recipeoftheday : 1\n",
      "#masala : 1\n",
      "#mumbaistreetfood : 1\n",
      "#fooddaily : 1\n",
      "#yourfoodtographer : 1\n",
      "#instadaily : 1\n",
      "#comfortfood : 3\n",
      "#food : 3\n",
      "#bhindimasala : 1\n",
      "#palak : 1\n",
      "#paneer : 1\n",
      "#rajma : 1\n",
      "#foodphotography : 2\n",
      "#dilsefoodie : 10\n",
      "#southdelhi : 1\n",
      "#gk1 : 1\n",
      "#delhitovrindavan : 1\n",
      "#Onedaytrip : 1\n",
      "#GiveawayAlert : 1\n",
      "#HendricksMidsummer : 3\n",
      "#HendricksGin : 2\n",
      " : 21\n",
      "#IgotGinspired : 1\n",
      "#daulatkichaat : 1\n",
      "#puranidilli : 3\n",
      "#foodstyling : 1\n",
      "#foodblogger : 1\n",
      "#foodexplorer : 1\n",
      "#mithai : 2\n",
      "#yummy : 2\n",
      "#tasty : 3\n",
      "#delish : 3\n",
      "#yumm : 2\n",
      "#nomnom : 2\n",
      "#sogood : 1\n",
      "#malai : 1\n",
      "#makhanmalai : 1\n",
      "#sodelhi : 3\n",
      "#lbb : 3\n",
      "#foodtalkindia : 3\n",
      "#foodguide : 1\n",
      "#delhifoodwalks : 3\n",
      "#streetfoodstories : 2\n",
      "#streetsofdelhi : 2\n",
      "#walkwithdfw : 4\n",
      "#walkwithanubhav : 3\n",
      "#indianculinarytours : 2\n",
      "#indianculinaryculture : 2\n",
      "#newvideoalert : 1\n",
      "#DFWInHaryana : 1\n",
      "#villagefood : 1\n",
      "#rusticflavours : 1\n",
      "#dfwtravels : 1\n",
      "#woodfiredoven : 1\n",
      "#traditionalfoods : 1\n",
      "#makkikiroti : 1\n",
      "#bajrekiroti : 1\n",
      "#sarsonkasaag : 1\n",
      "#rabdi : 1\n",
      "#makhan : 1\n",
      "#burfi : 1\n",
      "#clusterbeans : 1\n",
      "#pure : 1\n",
      "#momo : 1\n",
      "#chickenmomos : 1\n",
      "#chickenmomo : 1\n",
      "#chickendumplings : 1\n",
      "#nagalandcuisine : 1\n",
      "#delhitourism : 1\n",
      "#delhigram : 1\n",
      "#delhihaat : 1\n",
      "#yummymomos : 1\n",
      "#steammomos : 1\n",
      "#chickensoup : 1\n",
      "#delight : 1\n",
      "#winters : 2\n",
      "#delhi : 2\n",
      "#delhincr : 1\n",
      "#newdelhi : 1\n",
      "#IndiaCulinaryTours : 1\n",
      "#IndianCulinaryCulture : 1\n",
      "#throwback : 1\n",
      "#madurai : 1\n",
      "#maduraistreetfood : 1\n",
      "#idiyappams : 1\n",
      "#indianstreetfood : 1\n",
      "#streetfoodwithdelhifoodwalks : 1\n",
      "#chennaifoodtour : 1\n",
      "#bhelpuri : 1\n",
      "#delhistreetfoods : 1\n",
      "#walkwithdelhifoodwalks : 1\n",
      "#streetfoodofindia : 1\n",
      "#snacks : 1\n",
      "#bhelpurilover : 1\n",
      "#garamdoodh : 1\n",
      "#milk : 1\n",
      "#hotmilk : 1\n",
      "#winterdrink : 1\n",
      "#winterbeverage : 1\n",
      "#traditionalbeverage : 1\n",
      "#olddelhi : 1\n",
      "#dilli6 : 1\n",
      "#delhistreets : 1\n",
      "#puranidilliwaley : 1\n",
      "#olddelhifood : 1\n",
      "#mithaibox : 1\n",
      "#mitha : 1\n",
      "#diwali : 1\n",
      "#festivevibes : 1\n",
      "#festiveseason : 1\n",
      "#sweets : 1\n",
      "#indiansweets : 1\n",
      "#authenticindianfood : 1\n",
      "#indiandesserts : 1\n",
      "#hogging : 1\n",
      "#drooling : 1\n",
      "#drool : 1\n",
      "#foodlove : 1\n",
      "#foodlover : 1\n",
      "#foodgasm : 1\n",
      "#delhifood : 1\n",
      "#justdelhiing : 1\n",
      "#photography : 1\n",
      "#delhites : 1\n",
      "#delhilove : 1\n",
      "#foodislife : 1\n",
      "#fatehkikachori : 1\n",
      "#SoDelhi : 1\n"
     ]
    }
   ],
   "source": [
    "#make a frequency map for all the above hashtags\n",
    "#it will store key as hashtags and their frequency as value\n",
    "freqMap = {}\n",
    "\n",
    "for hashtag in hashtags:\n",
    "    freqMap[hashtag] = freqMap.get(hashtag, 0) + 1\n",
    "    \n",
    "for key in freqMap:\n",
    "    print(key, ':', freqMap[key])"
   ]
  },
  {
   "cell_type": "markdown",
   "metadata": {},
   "source": [
    "Part 3"
   ]
  },
  {
   "cell_type": "code",
   "execution_count": 57,
   "metadata": {},
   "outputs": [
    {
     "data": {
      "text/html": [
       "<div>\n",
       "<style scoped>\n",
       "    .dataframe tbody tr th:only-of-type {\n",
       "        vertical-align: middle;\n",
       "    }\n",
       "\n",
       "    .dataframe tbody tr th {\n",
       "        vertical-align: top;\n",
       "    }\n",
       "\n",
       "    .dataframe thead th {\n",
       "        text-align: right;\n",
       "    }\n",
       "</style>\n",
       "<table border=\"1\" class=\"dataframe\">\n",
       "  <thead>\n",
       "    <tr style=\"text-align: right;\">\n",
       "      <th></th>\n",
       "      <th>Hashtags</th>\n",
       "      <th>Frequency</th>\n",
       "    </tr>\n",
       "  </thead>\n",
       "  <tbody>\n",
       "    <tr>\n",
       "      <th>0</th>\n",
       "      <td>#Recipe</td>\n",
       "      <td>1</td>\n",
       "    </tr>\n",
       "    <tr>\n",
       "      <th>1</th>\n",
       "      <td>#foodie</td>\n",
       "      <td>4</td>\n",
       "    </tr>\n",
       "    <tr>\n",
       "      <th>2</th>\n",
       "      <td>#cake</td>\n",
       "      <td>2</td>\n",
       "    </tr>\n",
       "    <tr>\n",
       "      <th>3</th>\n",
       "      <td>#streetfood</td>\n",
       "      <td>8</td>\n",
       "    </tr>\n",
       "    <tr>\n",
       "      <th>4</th>\n",
       "      <td>#streetstyle</td>\n",
       "      <td>4</td>\n",
       "    </tr>\n",
       "    <tr>\n",
       "      <th>...</th>\n",
       "      <td>...</td>\n",
       "      <td>...</td>\n",
       "    </tr>\n",
       "    <tr>\n",
       "      <th>149</th>\n",
       "      <td>#delhites</td>\n",
       "      <td>1</td>\n",
       "    </tr>\n",
       "    <tr>\n",
       "      <th>150</th>\n",
       "      <td>#delhilove</td>\n",
       "      <td>1</td>\n",
       "    </tr>\n",
       "    <tr>\n",
       "      <th>151</th>\n",
       "      <td>#foodislife</td>\n",
       "      <td>1</td>\n",
       "    </tr>\n",
       "    <tr>\n",
       "      <th>152</th>\n",
       "      <td>#fatehkikachori</td>\n",
       "      <td>1</td>\n",
       "    </tr>\n",
       "    <tr>\n",
       "      <th>153</th>\n",
       "      <td>#SoDelhi</td>\n",
       "      <td>1</td>\n",
       "    </tr>\n",
       "  </tbody>\n",
       "</table>\n",
       "<p>154 rows × 2 columns</p>\n",
       "</div>"
      ],
      "text/plain": [
       "            Hashtags  Frequency\n",
       "0            #Recipe          1\n",
       "1            #foodie          4\n",
       "2              #cake          2\n",
       "3        #streetfood          8\n",
       "4       #streetstyle          4\n",
       "..               ...        ...\n",
       "149        #delhites          1\n",
       "150       #delhilove          1\n",
       "151      #foodislife          1\n",
       "152  #fatehkikachori          1\n",
       "153         #SoDelhi          1\n",
       "\n",
       "[154 rows x 2 columns]"
      ]
     },
     "execution_count": 57,
     "metadata": {},
     "output_type": "execute_result"
    }
   ],
   "source": [
    "#make a dataframe using the above frequency map of hashtags\n",
    "data = {\"Hashtags\": list(freqMap.keys()), \"Frequency\": list(freqMap.values())}\n",
    "df = pd.DataFrame(data)\n",
    "\n",
    "#save to csv file\n",
    "csv_file = df.to_csv('hashtags.csv', index = False)\n",
    "df"
   ]
  },
  {
   "cell_type": "markdown",
   "metadata": {},
   "source": [
    "Part 4"
   ]
  },
  {
   "cell_type": "code",
   "execution_count": 61,
   "metadata": {},
   "outputs": [
    {
     "data": {
      "text/html": [
       "<div>\n",
       "<style scoped>\n",
       "    .dataframe tbody tr th:only-of-type {\n",
       "        vertical-align: middle;\n",
       "    }\n",
       "\n",
       "    .dataframe tbody tr th {\n",
       "        vertical-align: top;\n",
       "    }\n",
       "\n",
       "    .dataframe thead th {\n",
       "        text-align: right;\n",
       "    }\n",
       "</style>\n",
       "<table border=\"1\" class=\"dataframe\">\n",
       "  <thead>\n",
       "    <tr style=\"text-align: right;\">\n",
       "      <th></th>\n",
       "      <th>Hashtags</th>\n",
       "      <th>Frequency</th>\n",
       "    </tr>\n",
       "  </thead>\n",
       "  <tbody>\n",
       "    <tr>\n",
       "      <th>39</th>\n",
       "      <td>#dilsefoodie</td>\n",
       "      <td>10</td>\n",
       "    </tr>\n",
       "    <tr>\n",
       "      <th>3</th>\n",
       "      <td>#streetfood</td>\n",
       "      <td>8</td>\n",
       "    </tr>\n",
       "    <tr>\n",
       "      <th>15</th>\n",
       "      <td>#foodporn</td>\n",
       "      <td>7</td>\n",
       "    </tr>\n",
       "    <tr>\n",
       "      <th>12</th>\n",
       "      <td>#recipe</td>\n",
       "      <td>5</td>\n",
       "    </tr>\n",
       "    <tr>\n",
       "      <th>17</th>\n",
       "      <td>#indiancuisine</td>\n",
       "      <td>5</td>\n",
       "    </tr>\n",
       "    <tr>\n",
       "      <th>...</th>\n",
       "      <td>...</td>\n",
       "      <td>...</td>\n",
       "    </tr>\n",
       "    <tr>\n",
       "      <th>60</th>\n",
       "      <td>#sogood</td>\n",
       "      <td>1</td>\n",
       "    </tr>\n",
       "    <tr>\n",
       "      <th>53</th>\n",
       "      <td>#foodexplorer</td>\n",
       "      <td>1</td>\n",
       "    </tr>\n",
       "    <tr>\n",
       "      <th>52</th>\n",
       "      <td>#foodblogger</td>\n",
       "      <td>1</td>\n",
       "    </tr>\n",
       "    <tr>\n",
       "      <th>51</th>\n",
       "      <td>#foodstyling</td>\n",
       "      <td>1</td>\n",
       "    </tr>\n",
       "    <tr>\n",
       "      <th>153</th>\n",
       "      <td>#SoDelhi</td>\n",
       "      <td>1</td>\n",
       "    </tr>\n",
       "  </tbody>\n",
       "</table>\n",
       "<p>153 rows × 2 columns</p>\n",
       "</div>"
      ],
      "text/plain": [
       "           Hashtags  Frequency\n",
       "39     #dilsefoodie         10\n",
       "3       #streetfood          8\n",
       "15        #foodporn          7\n",
       "12          #recipe          5\n",
       "17   #indiancuisine          5\n",
       "..              ...        ...\n",
       "60          #sogood          1\n",
       "53    #foodexplorer          1\n",
       "52     #foodblogger          1\n",
       "51     #foodstyling          1\n",
       "153        #SoDelhi          1\n",
       "\n",
       "[153 rows x 2 columns]"
      ]
     },
     "execution_count": 61,
     "metadata": {},
     "output_type": "execute_result"
    }
   ],
   "source": [
    "import numpy as np\n",
    "\n",
    "#drop the nan values in hashtag\n",
    "df[\"Hashtags\"].replace(\"\", np.nan, inplace = True)\n",
    "df.dropna(inplace = True)\n",
    "\n",
    "#sort the dataframe according to the frequency of hashtags in descending manner\n",
    "df.sort_values(by = \"Frequency\", ascending = False, inplace = True)\n",
    "df\n",
    "\n",
    "#the hashtags are now arranged on the basis of their frequency\n",
    "#the most popular hashtag is at the top"
   ]
  },
  {
   "cell_type": "markdown",
   "metadata": {},
   "source": [
    "Part 5"
   ]
  },
  {
   "cell_type": "code",
   "execution_count": 70,
   "metadata": {},
   "outputs": [
    {
     "name": "stdout",
     "output_type": "stream",
     "text": [
      "#dilsefoodie : 10\n",
      "#streetfood : 8\n",
      "#foodporn : 7\n",
      "#recipe : 5\n",
      "#indiancuisine : 5\n"
     ]
    },
    {
     "data": {
      "image/png": "[encoded data removed]",
      "text/plain": [
       "<Figure size 432x288 with 1 Axes>"
      ]
     },
     "metadata": {},
     "output_type": "display_data"
    }
   ],
   "source": [
    "#get the top 5 hashtags\n",
    "hashtags = list(df.iloc[:5, 0])\n",
    "\n",
    "#get the frequency of top 5 hashtags\n",
    "frequency = list(df.iloc[:5, 1])\n",
    "\n",
    "for i in range(len(hashtags)):\n",
    "    \n",
    "    print(hashtags[i], ':', frequency[i])\n",
    "    \n",
    "#plot the pie-chart\n",
    "plt.pie(frequency, labels = hashtags, counterclock = False, radius = 2, startangle = 100, autopct = \"%.2f%%\")\n",
    "plt.show()"
   ]
  },
  {
   "cell_type": "markdown",
   "metadata": {},
   "source": [
    "# Question 3"
   ]
  },
  {
   "cell_type": "markdown",
   "metadata": {},
   "source": [
    "Part 1"
   ]
  },
  {
   "cell_type": "code",
   "execution_count": 80,
   "metadata": {},
   "outputs": [
    {
     "name": "stdout",
     "output_type": "stream",
     "text": [
      "yourfoodlab : 216251 number of likes in top 10 posts\n",
      "dilsefoodie : 127640 number of likes in top 10 posts\n",
      "foodtalkindia : 5348 number of likes in top 10 posts\n",
      "delhifoodwalks : 12486 number of likes in top 10 posts\n",
      "delhifoodguide : 10439 number of likes in top 10 posts\n"
     ]
    }
   ],
   "source": [
    "from selenium.common.exceptions import NoSuchElementException\n",
    "\n",
    "def getNumberOfLikes(accountName):\n",
    "    \n",
    "    driver.get(\"https://www.instagram.com\")\n",
    "    search = driver.find_element_by_class_name('XTCLo')\n",
    "    \n",
    "    #search for account\n",
    "    search.send_keys(accountName)\n",
    "    time.sleep(3)\n",
    "\n",
    "    #click on the account\n",
    "    account = driver.find_element_by_xpath('//div[@class=\"fuqBx\"]/a[1]')\n",
    "    account.click()\n",
    "    time.sleep(3)\n",
    "\n",
    "    posts = driver.find_elements_by_class_name(\"_9AhH0\")\n",
    "    totalLikes = 0\n",
    "\n",
    "    #iterate over top 10 posts and all all of their likes into a variable totalLikes\n",
    "    for i in range(10):\n",
    "\n",
    "        currPost = posts[i]\n",
    "        currPost.click()\n",
    "        time.sleep(3)\n",
    "        \n",
    "\n",
    "        try:\n",
    "            \n",
    "            likes = int(driver.find_element_by_css_selector(\"div.Nm9Fw span\").text.replace(\",\", \"\"))\n",
    "            totalLikes += likes\n",
    "        \n",
    "        \n",
    "        except NoSuchElementException:\n",
    "            \n",
    "            driver.find_element_by_class_name(\"vcOH2\").click()\n",
    "            time.sleep(1)\n",
    "            totalLikes += int(driver.find_element_by_css_selector(\"div.vJRqr span\").text.replace(\",\", \"\"))\n",
    "            driver.find_element_by_class_name(\"QhbhU\").click()\n",
    "            time.sleep(1)\n",
    "        \n",
    "        close = driver.find_element_by_xpath(\"//body/div[last()]/div[last()]/button\")\n",
    "        close.click()\n",
    "        time.sleep(2)\n",
    "        \n",
    "    return totalLikes\n",
    "    \n",
    "    \n",
    "#make a dictionary to store key as handle and their likes as values\n",
    "likeDict = dict()\n",
    "\n",
    "#loop through the 5 most popular handles\n",
    "for i in range(5):\n",
    "    \n",
    "    accountName = arr[i][0]\n",
    "    likeDict[accountName] = getNumberOfLikes(accountName)\n",
    "    \n",
    "    print(accountName, \":\", likeDict[accountName], \"number of likes in top 10 posts\")\n",
    "    \n",
    "\n",
    "    "
   ]
  },
  {
   "cell_type": "markdown",
   "metadata": {},
   "source": [
    "Part 2"
   ]
  },
  {
   "cell_type": "code",
   "execution_count": 83,
   "metadata": {},
   "outputs": [
    {
     "name": "stdout",
     "output_type": "stream",
     "text": [
      "yourfoodlab : 21625 number of average likes\n",
      "dilsefoodie : 12764 number of average likes\n",
      "foodtalkindia : 534 number of average likes\n",
      "delhifoodwalks : 1248 number of average likes\n",
      "delhifoodguide : 1043 number of average likes\n"
     ]
    }
   ],
   "source": [
    "#after obtaining the likeDict from the above function\n",
    "\n",
    "for igHandle in likeDict:\n",
    "    \n",
    "    #for finding average, take integer division by 10\n",
    "    likeDict[igHandle] //= 10\n",
    "    \n",
    "    print(igHandle, \":\", likeDict[igHandle], \"number of average likes\")\n",
    "    \n"
   ]
  },
  {
   "cell_type": "markdown",
   "metadata": {},
   "source": [
    "Part 3"
   ]
  },
  {
   "cell_type": "code",
   "execution_count": 90,
   "metadata": {},
   "outputs": [
    {
     "name": "stdout",
     "output_type": "stream",
     "text": [
      "yourfoodlab : 0.015\n",
      "dilsefoodie : 0.019\n",
      "foodtalkindia : 0.002\n",
      "delhifoodwalks : 0.010\n",
      "delhifoodguide : 0.010\n"
     ]
    }
   ],
   "source": [
    "#get the followers dictionary from question 1 for top 5 igHandles\n",
    "followersDict = dict(arr[:5])\n",
    "\n",
    "#make a dictionary which will store igHandle as keys and their average folloers:like ratio as value\n",
    "ratio = dict()\n",
    "\n",
    "for key in followersDict:\n",
    "    \n",
    "    igHandle = key\n",
    "    followers = followersDict[igHandle]\n",
    "    avgLikes = likeDict[igHandle]\n",
    "    \n",
    "    ratio[igHandle] = avgLikes/followers\n",
    "    \n",
    "    #print the ratio rounded off to 3 decimal places\n",
    "    print(igHandle, \":\", \"{0:.3f}\".format(ratio[igHandle]))\n",
    "    \n",
    "    "
   ]
  },
  {
   "cell_type": "markdown",
   "metadata": {},
   "source": [
    "Part 4"
   ]
  },
  {
   "cell_type": "code",
   "execution_count": 91,
   "metadata": {},
   "outputs": [
    {
     "data": {
      "image/png": "[encoded data removed]",
      "text/plain": [
       "<Figure size 432x288 with 1 Axes>"
      ]
     },
     "metadata": {
      "needs_background": "light"
     },
     "output_type": "display_data"
    }
   ],
   "source": [
    "#get the accountNames\n",
    "igHandles = list(ratio.keys())\n",
    "\n",
    "#get the average followers:like ratio\n",
    "followersLikeRatio = list(ratio.values())\n",
    "\n",
    "#plot the bargraph\n",
    "plt.bar(igHandles, followersLikeRatio)\n",
    "plt.xlabel(\"Instagram Handles\")\n",
    "plt.xticks(rotation = 30)\n",
    "plt.ylabel(\"Average Followers : Like Ratio\")\n",
    "plt.title(\"Followes : Like Distribution\")\n",
    "plt.grid()\n",
    "plt.show()"
   ]
  }
 ],
 "metadata": {
  "kernelspec": {
   "display_name": "Python 3",
   "language": "python",
   "name": "python3"
  },
  "language_info": {
   "codemirror_mode": {
    "name": "ipython",
    "version": 3
   },
   "file_extension": ".py",
   "mimetype": "text/x-python",
   "name": "python",
   "nbconvert_exporter": "python",
   "pygments_lexer": "ipython3",
   "version": "3.7.6"
  }
 },
 "nbformat": 4,
 "nbformat_minor": 4
}
